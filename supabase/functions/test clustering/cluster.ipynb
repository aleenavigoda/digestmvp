{
 "cells": [
  {
   "cell_type": "code",
   "execution_count": 5,
   "metadata": {},
   "outputs": [
    {
     "name": "stdout",
     "output_type": "stream",
     "text": [
      "Cluster 3: 146 essays, Ratio: 26.59%\n",
      "Cluster 4: 25 essays, Ratio: 4.55%\n",
      "Cluster 2: 36 essays, Ratio: 6.56%\n",
      "Cluster 1: 303 essays, Ratio: 55.19%\n",
      "Cluster 0: 39 essays, Ratio: 7.10%\n"
     ]
    }
   ],
   "source": [
    "import numpy as np\n",
    "from collections import Counter\n",
    "\n",
    "# Replace this with the actual 'clusters' array from your previous run\n",
    "clusters = np.array([3, 3, 3, 3, 3, 3, 3, 3, 3, 3, 3, 3, 3, 3, 3, 3, 3, 3, 3, 3, 3, 3, 4, 4, 4, 4, 4, 4, 4, 4, 4, 4, 4, 4, 4, 4, 4,\n",
    " 4, 4, 4, 4, 3, 2, 3, 3, 2, 3, 2, 3, 3, 3, 3, 3, 2, 1, 3, 1, 3, 3, 3, 3, 3, 3, 2, 3, 1, 1, 1, 3, 1, 1, 3, 3, 2,\n",
    " 3, 1, 3, 0, 3, 3, 3, 1, 3, 1, 3, 3, 2, 3, 0, 3, 0, 2, 2, 3, 2, 1, 3, 3, 3, 0, 0, 0, 0, 1, 0, 3, 0, 0, 1, 1, 3,\n",
    " 3, 1, 1, 3, 3, 3, 3, 3, 3, 3, 3, 3, 3, 3, 3, 3, 0, 0, 3, 2, 3, 3, 1, 3, 3, 0, 0, 1, 3, 0, 1, 1, 1, 1, 1, 1, 1,\n",
    " 1, 1, 1, 1, 1, 1, 1, 1, 0, 1, 1, 0, 3, 0, 1, 1, 1, 1, 3, 1, 1, 1, 1, 1, 0, 3, 2, 2, 3, 3, 3, 3, 3, 0, 2, 3, 3,\n",
    " 3, 3, 3, 2, 0, 3, 2, 3, 3, 3, 3, 2, 1, 1, 3, 1, 3, 1, 3, 3, 3, 3, 1, 0, 0, 2, 1, 3, 1, 1, 1, 1, 1, 1, 1, 1, 0,\n",
    " 1, 1, 1, 1, 1, 1, 1, 1, 1, 1, 1, 1, 1, 1, 1, 1, 1, 1, 1, 1, 1, 1, 1, 1, 1, 1, 1, 1, 1, 1, 1, 1, 1, 1, 1, 1, 1,\n",
    " 1, 1, 1, 1, 1, 1, 1, 1, 1, 1, 1, 1, 1, 1, 1, 1, 1, 1, 1, 1, 1, 1, 1, 1, 1, 1, 1, 1, 1, 1, 1, 1, 1, 2, 0, 1,\n",
    " 1, 1, 1, 1, 1, 1, 1, 1, 1, 1, 1, 1, 1, 1, 1, 1, 1, 1, 1, 1, 1, 1, 1, 2, 1, 1, 1, 1, 1, 1, 1, 1, 1, 1, 1, 1,\n",
    " 1, 1, 1, 1, 1, 1, 1, 1, 1, 1, 1, 1, 0, 1, 1, 1, 1, 1, 1, 1, 1, 1, 1, 1, 0, 1, 1, 1, 1, 1, 1, 1, 1, 1, 1, 2, 1,\n",
    " 1, 1, 1, 1, 1, 1, 0, 1, 2, 1, 1, 1, 1, 1, 1, 1, 1, 1, 1, 1, 1, 1, 1, 1, 1, 1, 1, 1, 1, 1, 1, 1, 1, 1, 2, 1, 1,\n",
    " 3, 1, 3, 1, 0, 1, 0, 3, 3, 3, 3, 3, 0, 4, 4, 4, 4, 4, 4, 3, 3, 1, 3, 3, 3, 3, 3, 3, 2, 1, 3, 2, 3, 3, 3, 3, 0,\n",
    " 0, 3, 3, 3, 3, 1, 3, 3, 1, 3, 1, 1, 1, 1, 2, 1, 1, 1, 2, 3, 3, 3, 3, 3, 1, 1, 0, 3, 0, 2, 2, 1, 1, 1, 1, 1, 0,\n",
    " 1, 1, 3, 1, 1, 1, 0, 1, 1, 1, 1, 1, 1, 1, 1, 1, 1, 1, 1, 1, 1, 1, 1, 1, 1, 1, 1, 1, 1, 1, 1, 1, 1, 0, 1, 0, 1,\n",
    " 1, 1, 1, 1, 1, 1, 1, 1, 1, 1, 1, 1, 1, 1, 3, 1, 3, 3, 3, 3, 2, 2, 2, 2, 2, 2, 3, 3, 3, 2, 1, 1, 3])  \n",
    "\n",
    "# Count the occurrences of each cluster\n",
    "cluster_counts = Counter(clusters)\n",
    "\n",
    "# Calculate the total number of essays\n",
    "total_essays = len(clusters)\n",
    "\n",
    "# Calculate and print the ratio of each cluster\n",
    "for cluster_id, count in cluster_counts.items():\n",
    "    ratio = count / total_essays\n",
    "    print(f\"Cluster {cluster_id}: {count} essays, Ratio: {ratio:.2%}\")\n"
   ]
  },
  {
   "cell_type": "code",
   "execution_count": 6,
   "metadata": {},
   "outputs": [
    {
     "ename": "NameError",
     "evalue": "name 'kmeans' is not defined",
     "output_type": "error",
     "traceback": [
      "\u001b[0;31m---------------------------------------------------------------------------\u001b[0m",
      "\u001b[0;31mNameError\u001b[0m                                 Traceback (most recent call last)",
      "Cell \u001b[0;32mIn[6], line 2\u001b[0m\n\u001b[1;32m      1\u001b[0m \u001b[38;5;66;03m# Get the centroids of the clusters\u001b[39;00m\n\u001b[0;32m----> 2\u001b[0m centroids \u001b[38;5;241m=\u001b[39m \u001b[43mkmeans\u001b[49m\u001b[38;5;241m.\u001b[39mcluster_centers_\n\u001b[1;32m      4\u001b[0m \u001b[38;5;28mprint\u001b[39m(\u001b[38;5;124m\"\u001b[39m\u001b[38;5;124mCentroids of the clusters:\u001b[39m\u001b[38;5;124m\"\u001b[39m)\n\u001b[1;32m      5\u001b[0m \u001b[38;5;28mprint\u001b[39m(centroids)\n",
      "\u001b[0;31mNameError\u001b[0m: name 'kmeans' is not defined"
     ]
    }
   ],
   "source": [
    "# Get the centroids of the clusters\n",
    "centroids = kmeans.cluster_centers_\n",
    "\n",
    "print(\"Centroids of the clusters:\")\n",
    "print(centroids)"
   ]
  },
  {
   "cell_type": "code",
   "execution_count": 31,
   "metadata": {},
   "outputs": [
    {
     "name": "stdout",
     "output_type": "stream",
     "text": [
      "Cluster assignments:\n",
      "[3 3 3 3 3 3 2 3 3 3 3 1 0 3 2 3 3 3 2 2 3 3 2 3 2 3 3 3 4 2 0 3 0 3 1 3 3\n",
      " 1 3 1 0 4 3 0 4 3 3 3 3 0 3 1 3 3 0 3 1 3 4 3 1 3 2 3 3 3 3 0 3 3 2 2 2 1\n",
      " 0 1 3 1 2 4 0 3 3 4 4 3 3 3 3 3 3 3 1 3 3 3 3 2 2 3 2 3 1 3 4 2 2 4 3 1 1\n",
      " 0 1 0 0 1 0 4 4 0 0 0 4 0 2 4 1 3 3 4 0 4 0 3 0 0 0 0 1 3 3 3 3 3 3 3 2 3\n",
      " 3 3 3 3 3 2 2 3 1 1 2 0 0 3 0 1 0 3 3 3 3 4 1 2 4 3 4 0 0 0 4 0 1 0 1 4 4\n",
      " 0 4 4 0 0 4 4 1 0 4 4 0 4 0 4 4 4 0 4 0 1 0 4 1 0 1 0 4 1 4 1 1 4 0 0 1 0\n",
      " 0 0 4 1 0 4 4 0 1 0 0 1 0 0 0 0 0 0 0 0 0 1 0 0 0 1 1 0 0 0 0 4 1 0 0 0 1\n",
      " 1 0 1 1 0 0 0 0 1 4 0 1 2 1 0 0 0 4 0 0 4 1 0 0 4 0 0 0 0 0 0 0 0 0 1 0 0\n",
      " 4 4 0 0 0 1 0 0 0 4 1 1 4 4 0 0 1 0 0 1 1 1 0 0 1 4 1 0 1 1 0 0 1 0 1 0 0\n",
      " 0 0 0 0 0 1 1 0 1 1 1 0 4 1 1 3 1 1 3 1 3 1 1 1 1 3 3 3 3 3 2 2 3 3 3 3 3\n",
      " 4 3 3 3 3 3 1 3 3 3 3 3 3 1 2 3 3 3 4 3 3 0 3 1 0 0 1 3 0 0 1 3 3 3 3 3 1\n",
      " 0 3 3 1 2 3 0 1 1 1 1 4 4 3 0 4 0 1 0 4 0 0 0 0 4 0 4 0 0 4 1 1 1 0 0 0 0\n",
      " 0 4 0 0 0 1 1 1 4 0 4 0 0 0 0 1 0 0 1 1 4 4 0 3 0 3 3 3 3 3 3 1 2 3 4 3 3\n",
      " 3 3 3 3 1 3 3 3 3 0 3 0 2 0 2 3 3 3 2 1 0 4 4 4 0 1 0 1 0 1 1 0 0 0 0 4 3\n",
      " 2 3 3 3 3 0 4 0 0 3 2 3 2 3]\n"
     ]
    }
   ],
   "source": [
    "from kmeans import fetch_embeddings\n",
    "from sklearn.cluster import KMeans\n",
    "\n",
    "embeddings = fetch_embeddings()\n",
    "\n",
    "# Perform K-Means clustering\n",
    "num_clusters = 5  # Adjust the number of clusters as needed\n",
    "kmeans = KMeans(n_clusters=num_clusters, random_state=0)\n",
    "clusters = kmeans.fit_predict(embeddings)\n",
    "\n",
    "print(\"Cluster assignments:\")\n",
    "print(clusters)"
   ]
  },
  {
   "cell_type": "code",
   "execution_count": 14,
   "metadata": {},
   "outputs": [
    {
     "name": "stdout",
     "output_type": "stream",
     "text": [
      "Centroids of the clusters:\n",
      "[[ 0.00106575  0.01029527  0.00021162 ... -0.01529357 -0.00593494\n",
      "  -0.01022376]\n",
      " [ 0.00410084  0.01248256  0.00299664 ... -0.01908823 -0.00803226\n",
      "  -0.01988717]\n",
      " [ 0.00010607  0.02152081 -0.00332643 ... -0.00977239 -0.00134573\n",
      "  -0.01513255]\n",
      " [-0.00566902  0.01367217 -0.00327608 ... -0.01195256 -0.00606771\n",
      "  -0.01656048]\n",
      " [ 0.0073345   0.01237487  0.00813418 ... -0.02086687 -0.01298141\n",
      "  -0.02241232]]\n"
     ]
    }
   ],
   "source": [
    "# Proceed with accessing the centroids or any further analysis\n",
    "centroids = kmeans.cluster_centers_\n",
    "print(\"Centroids of the clusters:\")\n",
    "print(centroids)"
   ]
  },
  {
   "cell_type": "code",
   "execution_count": 11,
   "metadata": {},
   "outputs": [
    {
     "name": "stdout",
     "output_type": "stream",
     "text": [
      "/Users/spleena/Documents/GitHub/digestmvp/.conda/bin/python\n"
     ]
    }
   ],
   "source": [
    "import sys\n",
    "print(sys.executable)"
   ]
  },
  {
   "cell_type": "code",
   "execution_count": 33,
   "metadata": {},
   "outputs": [
    {
     "name": "stdout",
     "output_type": "stream",
     "text": [
      "Cluster 3: 154 essays, Ratio: 28.95%\n",
      "Cluster 2: 35 essays, Ratio: 6.58%\n",
      "Cluster 1: 103 essays, Ratio: 19.36%\n",
      "Cluster 0: 169 essays, Ratio: 31.77%\n",
      "Cluster 4: 71 essays, Ratio: 13.35%\n"
     ]
    }
   ],
   "source": [
    "# Assume clusters is the array from your previous output\n",
    "clusters = np.array([3, 3, 3, 3, 3, 3, 2, 3, 3, 3, 3, 1, 0, 3, 2, 3, 3, 3, 2, 2, 3, 3, 2, 3, 2, 3, 3, 3, 4, 2, 0, 3, 0, 3, 1, 3, 3,\n",
    " 1, 3, 1, 0, 4, 3, 0, 4, 3, 3, 3, 3, 0, 3, 1, 3, 3, 0, 3, 1, 3, 4, 3, 1, 3, 2, 3, 3, 3, 3, 0, 3, 3, 2, 2, 2, 1,\n",
    " 0, 1, 3, 1, 2, 4, 0, 3, 3, 4, 4, 3, 3, 3, 3, 3, 3, 3, 1, 3, 3, 3, 3, 2, 2, 3, 2, 3, 1, 3, 4, 2, 2, 4, 3, 1, 1,\n",
    " 0, 1, 0, 0, 1, 0, 4, 4, 0, 0, 0, 4, 0, 2, 4, 1, 3, 3, 4, 0, 4, 0, 3, 0, 0, 0, 0, 1, 3, 3, 3, 3, 3, 3, 3, 2, 3,\n",
    " 3, 3, 3, 3, 3, 2, 2, 3, 1, 1, 2, 0, 0, 3, 0, 1, 0, 3, 3, 3, 3, 4, 1, 2, 4, 3, 4, 0, 0, 0, 4, 0, 1, 0, 1, 4, 4,\n",
    " 0, 4, 4, 0, 0, 4, 4, 1, 0, 4, 4, 0, 4, 0, 4, 4, 4, 0, 4, 0, 1, 0, 4, 1, 0, 1, 0, 4, 1, 4, 1, 1, 4, 0, 0, 1, 0,\n",
    " 0, 0, 4, 1, 0, 4, 4, 0, 1, 0, 0, 1, 0, 0, 0, 0, 0, 0, 0, 0, 0, 1, 0, 0, 0, 1, 1, 0, 0, 0, 0, 4, 1, 0, 0, 0, 1,\n",
    " 1, 0, 1, 1, 0, 0, 0, 0, 1, 4, 0, 1, 2, 1, 0, 0, 0, 4, 0, 0, 4, 1, 0, 0, 4, 0, 0, 0, 0, 0, 0, 0, 0, 0, 1, 0, 0,\n",
    " 4, 4, 0, 0, 0, 1, 0, 0, 0, 4, 1, 1, 4, 4, 0, 0, 1, 0, 0, 1, 1, 1, 0, 0, 1, 4, 1, 0, 1, 1, 0, 0, 1, 0, 1, 0, 0,\n",
    " 0, 0, 0, 0, 0, 1, 1, 0, 1, 1, 1, 0, 4, 1, 1, 3, 1, 1, 3, 1, 3, 1, 1, 1, 1, 3, 3, 3, 3, 3, 2, 2, 3, 3, 3, 3, 3,\n",
    " 4, 3, 3, 3, 3, 3, 1, 3, 3, 3, 3, 3, 3, 1, 2, 3, 3, 3, 4, 3, 3, 0, 3, 1, 0, 0, 1, 3, 0, 0, 1, 3, 3, 3, 3, 3, 1,\n",
    " 0, 3, 3, 1, 2, 3, 0, 1, 1, 1, 1, 4, 4, 3, 0, 4, 0, 1, 0, 4, 0, 0, 0, 0, 4, 0, 4, 0, 0, 4, 1, 1, 1, 0, 0, 0, 0,\n",
    " 0, 4, 0, 0, 0, 1, 1, 1, 4, 0, 4, 0, 0, 0, 0, 1, 0, 0, 1, 1, 4, 4, 0, 3, 0, 3, 3, 3, 3, 3, 3, 1, 2, 3, 4, 3, 3,\n",
    " 3, 3, 3, 3, 1, 3, 3, 3, 3, 0, 3, 0, 2, 0, 2, 3, 3, 3, 2, 1, 0, 4, 4, 4, 0, 1, 0, 1, 0, 1, 1, 0, 0, 0, 0, 4, 3,\n",
    " 2, 3, 3, 3, 3, 0, 4, 0, 0, 3, 2, 3, 2, 3])\n",
    "\n",
    "# Count the occurrences of each cluster\n",
    "cluster_counts = Counter(clusters)\n",
    "\n",
    "# Calculate the total number of essays\n",
    "total_essays = len(clusters)\n",
    "\n",
    "# Calculate and print the ratio of each cluster\n",
    "for cluster_id, count in cluster_counts.items():\n",
    "    ratio = count / total_essays\n",
    "    print(f\"Cluster {cluster_id}: {count} essays, Ratio: {ratio:.2%}\")\n"
   ]
  },
  {
   "cell_type": "code",
   "execution_count": 12,
   "metadata": {},
   "outputs": [
    {
     "name": "stdout",
     "output_type": "stream",
     "text": [
      "Collecting supabase\n",
      "  Using cached supabase-2.7.3-py3-none-any.whl.metadata (10 kB)\n",
      "Collecting gotrue<3.0,>=1.3 (from supabase)\n",
      "  Using cached gotrue-2.7.0-py3-none-any.whl.metadata (6.0 kB)\n",
      "Collecting httpx<0.28,>=0.24 (from supabase)\n",
      "  Downloading httpx-0.27.2-py3-none-any.whl.metadata (7.1 kB)\n",
      "Collecting postgrest<0.17.0,>=0.14 (from supabase)\n",
      "  Using cached postgrest-0.16.11-py3-none-any.whl.metadata (5.1 kB)\n",
      "Collecting realtime<3.0.0,>=2.0.0 (from supabase)\n",
      "  Using cached realtime-2.0.2-py3-none-any.whl.metadata (6.7 kB)\n",
      "Collecting storage3<0.8.0,>=0.5.3 (from supabase)\n",
      "  Using cached storage3-0.7.7-py3-none-any.whl.metadata (1.9 kB)\n",
      "Collecting supafunc<0.6.0,>=0.3.1 (from supabase)\n",
      "  Using cached supafunc-0.5.1-py3-none-any.whl.metadata (1.2 kB)\n",
      "Collecting pydantic<3,>=1.10 (from gotrue<3.0,>=1.3->supabase)\n",
      "  Using cached pydantic-2.8.2-py3-none-any.whl.metadata (125 kB)\n",
      "Collecting anyio (from httpx<0.28,>=0.24->supabase)\n",
      "  Using cached anyio-4.4.0-py3-none-any.whl.metadata (4.6 kB)\n",
      "Collecting certifi (from httpx<0.28,>=0.24->supabase)\n",
      "  Using cached certifi-2024.7.4-py3-none-any.whl.metadata (2.2 kB)\n",
      "Collecting httpcore==1.* (from httpx<0.28,>=0.24->supabase)\n",
      "  Using cached httpcore-1.0.5-py3-none-any.whl.metadata (20 kB)\n",
      "Collecting idna (from httpx<0.28,>=0.24->supabase)\n",
      "  Using cached idna-3.8-py3-none-any.whl.metadata (9.9 kB)\n",
      "Collecting sniffio (from httpx<0.28,>=0.24->supabase)\n",
      "  Using cached sniffio-1.3.1-py3-none-any.whl.metadata (3.9 kB)\n",
      "Collecting h11<0.15,>=0.13 (from httpcore==1.*->httpx<0.28,>=0.24->supabase)\n",
      "  Using cached h11-0.14.0-py3-none-any.whl.metadata (8.2 kB)\n",
      "Collecting deprecation<3.0.0,>=2.1.0 (from postgrest<0.17.0,>=0.14->supabase)\n",
      "  Using cached deprecation-2.1.0-py2.py3-none-any.whl.metadata (4.6 kB)\n",
      "Collecting strenum<0.5.0,>=0.4.9 (from postgrest<0.17.0,>=0.14->supabase)\n",
      "  Using cached StrEnum-0.4.15-py3-none-any.whl.metadata (5.3 kB)\n",
      "Collecting aiohttp<4.0.0,>=3.10.2 (from realtime<3.0.0,>=2.0.0->supabase)\n",
      "  Using cached aiohttp-3.10.5-cp311-cp311-macosx_10_9_x86_64.whl.metadata (7.5 kB)\n",
      "Requirement already satisfied: python-dateutil<3.0.0,>=2.8.1 in /Users/spleena/Documents/GitHub/digestmvp/.conda/lib/python3.11/site-packages (from realtime<3.0.0,>=2.0.0->supabase) (2.9.0)\n",
      "Requirement already satisfied: typing-extensions<5.0.0,>=4.12.2 in /Users/spleena/Documents/GitHub/digestmvp/.conda/lib/python3.11/site-packages (from realtime<3.0.0,>=2.0.0->supabase) (4.12.2)\n",
      "Collecting websockets<13,>=11 (from realtime<3.0.0,>=2.0.0->supabase)\n",
      "  Using cached websockets-12.0-cp311-cp311-macosx_10_9_x86_64.whl.metadata (6.6 kB)\n",
      "Collecting aiohappyeyeballs>=2.3.0 (from aiohttp<4.0.0,>=3.10.2->realtime<3.0.0,>=2.0.0->supabase)\n",
      "  Using cached aiohappyeyeballs-2.4.0-py3-none-any.whl.metadata (5.9 kB)\n",
      "Collecting aiosignal>=1.1.2 (from aiohttp<4.0.0,>=3.10.2->realtime<3.0.0,>=2.0.0->supabase)\n",
      "  Using cached aiosignal-1.3.1-py3-none-any.whl.metadata (4.0 kB)\n",
      "Collecting attrs>=17.3.0 (from aiohttp<4.0.0,>=3.10.2->realtime<3.0.0,>=2.0.0->supabase)\n",
      "  Using cached attrs-24.2.0-py3-none-any.whl.metadata (11 kB)\n",
      "Collecting frozenlist>=1.1.1 (from aiohttp<4.0.0,>=3.10.2->realtime<3.0.0,>=2.0.0->supabase)\n",
      "  Using cached frozenlist-1.4.1-cp311-cp311-macosx_10_9_x86_64.whl.metadata (12 kB)\n",
      "Collecting multidict<7.0,>=4.5 (from aiohttp<4.0.0,>=3.10.2->realtime<3.0.0,>=2.0.0->supabase)\n",
      "  Using cached multidict-6.0.5-cp311-cp311-macosx_10_9_x86_64.whl.metadata (4.2 kB)\n",
      "Collecting yarl<2.0,>=1.0 (from aiohttp<4.0.0,>=3.10.2->realtime<3.0.0,>=2.0.0->supabase)\n",
      "  Using cached yarl-1.9.4-cp311-cp311-macosx_10_9_x86_64.whl.metadata (31 kB)\n",
      "Requirement already satisfied: packaging in /Users/spleena/Documents/GitHub/digestmvp/.conda/lib/python3.11/site-packages (from deprecation<3.0.0,>=2.1.0->postgrest<0.17.0,>=0.14->supabase) (24.1)\n",
      "Collecting h2<5,>=3 (from httpx[http2]<0.28,>=0.24->gotrue<3.0,>=1.3->supabase)\n",
      "  Using cached h2-4.1.0-py3-none-any.whl.metadata (3.6 kB)\n",
      "Collecting annotated-types>=0.4.0 (from pydantic<3,>=1.10->gotrue<3.0,>=1.3->supabase)\n",
      "  Using cached annotated_types-0.7.0-py3-none-any.whl.metadata (15 kB)\n",
      "Collecting pydantic-core==2.20.1 (from pydantic<3,>=1.10->gotrue<3.0,>=1.3->supabase)\n",
      "  Using cached pydantic_core-2.20.1-cp311-cp311-macosx_10_12_x86_64.whl.metadata (6.6 kB)\n",
      "Requirement already satisfied: six>=1.5 in /Users/spleena/Documents/GitHub/digestmvp/.conda/lib/python3.11/site-packages (from python-dateutil<3.0.0,>=2.8.1->realtime<3.0.0,>=2.0.0->supabase) (1.16.0)\n",
      "Collecting hyperframe<7,>=6.0 (from h2<5,>=3->httpx[http2]<0.28,>=0.24->gotrue<3.0,>=1.3->supabase)\n",
      "  Using cached hyperframe-6.0.1-py3-none-any.whl.metadata (2.7 kB)\n",
      "Collecting hpack<5,>=4.0 (from h2<5,>=3->httpx[http2]<0.28,>=0.24->gotrue<3.0,>=1.3->supabase)\n",
      "  Using cached hpack-4.0.0-py3-none-any.whl.metadata (2.5 kB)\n",
      "Using cached supabase-2.7.3-py3-none-any.whl (15 kB)\n",
      "Using cached gotrue-2.7.0-py3-none-any.whl (47 kB)\n",
      "Downloading httpx-0.27.2-py3-none-any.whl (76 kB)\n",
      "Using cached httpcore-1.0.5-py3-none-any.whl (77 kB)\n",
      "Using cached postgrest-0.16.11-py3-none-any.whl (21 kB)\n",
      "Using cached realtime-2.0.2-py3-none-any.whl (20 kB)\n",
      "Using cached storage3-0.7.7-py3-none-any.whl (16 kB)\n",
      "Using cached supafunc-0.5.1-py3-none-any.whl (6.4 kB)\n",
      "Using cached aiohttp-3.10.5-cp311-cp311-macosx_10_9_x86_64.whl (397 kB)\n",
      "Using cached deprecation-2.1.0-py2.py3-none-any.whl (11 kB)\n",
      "Using cached pydantic-2.8.2-py3-none-any.whl (423 kB)\n",
      "Using cached pydantic_core-2.20.1-cp311-cp311-macosx_10_12_x86_64.whl (1.8 MB)\n",
      "Using cached StrEnum-0.4.15-py3-none-any.whl (8.9 kB)\n",
      "Using cached websockets-12.0-cp311-cp311-macosx_10_9_x86_64.whl (121 kB)\n",
      "Using cached anyio-4.4.0-py3-none-any.whl (86 kB)\n",
      "Using cached idna-3.8-py3-none-any.whl (66 kB)\n",
      "Using cached sniffio-1.3.1-py3-none-any.whl (10 kB)\n",
      "Using cached certifi-2024.7.4-py3-none-any.whl (162 kB)\n",
      "Using cached aiohappyeyeballs-2.4.0-py3-none-any.whl (12 kB)\n",
      "Using cached aiosignal-1.3.1-py3-none-any.whl (7.6 kB)\n",
      "Using cached annotated_types-0.7.0-py3-none-any.whl (13 kB)\n",
      "Using cached attrs-24.2.0-py3-none-any.whl (63 kB)\n",
      "Using cached frozenlist-1.4.1-cp311-cp311-macosx_10_9_x86_64.whl (55 kB)\n",
      "Using cached h11-0.14.0-py3-none-any.whl (58 kB)\n",
      "Using cached h2-4.1.0-py3-none-any.whl (57 kB)\n",
      "Using cached multidict-6.0.5-cp311-cp311-macosx_10_9_x86_64.whl (30 kB)\n",
      "Using cached yarl-1.9.4-cp311-cp311-macosx_10_9_x86_64.whl (83 kB)\n",
      "Using cached hpack-4.0.0-py3-none-any.whl (32 kB)\n",
      "Using cached hyperframe-6.0.1-py3-none-any.whl (12 kB)\n",
      "Installing collected packages: strenum, websockets, sniffio, pydantic-core, multidict, idna, hyperframe, hpack, h11, frozenlist, deprecation, certifi, attrs, annotated-types, aiohappyeyeballs, yarl, pydantic, httpcore, h2, anyio, aiosignal, httpx, aiohttp, realtime, supafunc, storage3, postgrest, gotrue, supabase\n",
      "Successfully installed aiohappyeyeballs-2.4.0 aiohttp-3.10.5 aiosignal-1.3.1 annotated-types-0.7.0 anyio-4.4.0 attrs-24.2.0 certifi-2024.7.4 deprecation-2.1.0 frozenlist-1.4.1 gotrue-2.7.0 h11-0.14.0 h2-4.1.0 hpack-4.0.0 httpcore-1.0.5 httpx-0.27.2 hyperframe-6.0.1 idna-3.8 multidict-6.0.5 postgrest-0.16.11 pydantic-2.8.2 pydantic-core-2.20.1 realtime-2.0.2 sniffio-1.3.1 storage3-0.7.7 strenum-0.4.15 supabase-2.7.3 supafunc-0.5.1 websockets-12.0 yarl-1.9.4\n"
     ]
    }
   ],
   "source": [
    "!pip install supabase"
   ]
  },
  {
   "cell_type": "code",
   "execution_count": 9,
   "metadata": {},
   "outputs": [
    {
     "name": "stdout",
     "output_type": "stream",
     "text": [
      "Requirement already satisfied: python-dotenv in /Users/spleena/Documents/GitHub/digestmvp/.conda/lib/python3.11/site-packages (1.0.1)\n"
     ]
    }
   ],
   "source": [
    "!pip install python-dotenv"
   ]
  },
  {
   "cell_type": "code",
   "execution_count": 11,
   "metadata": {},
   "outputs": [],
   "source": [
    "import numpy as np\n",
    "from supabase import create_client, Client\n",
    "from sklearn.cluster import KMeans\n",
    "import os\n",
    "from dotenv import load_dotenv\n",
    "load_dotenv()\n",
    "\n",
    "url = \"https://ctyrqfzockxyqoughgqv.supabase.co\"\n",
    "key = os.getenv('SERVICE_ROLE_KEY')\n",
    "supabase: Client = create_client(url, key)\n",
    "\n"
   ]
  },
  {
   "cell_type": "code",
   "execution_count": null,
   "metadata": {},
   "outputs": [],
   "source": [
    "import ast\n",
    "\n",
    "# Fetch embeddings and IDs (assuming they are stored as strings in your Supabase table)\n",
    "response = supabase.table('Essays').select('id', 'embedding').execute()\n",
    "\n",
    "# Extract embeddings and IDs\n",
    "embeddings = []\n",
    "ids = []\n",
    "for record in response.data:\n",
    "    embedding_str = record['embedding']\n",
    "    if embedding_str is not None:  # Skip null embeddings\n",
    "        embedding = ast.literal_eval(embedding_str)  # Convert string to list\n",
    "        embeddings.append(embedding)\n",
    "        ids.append(record['id'])"
   ]
  },
  {
   "cell_type": "code",
   "execution_count": 27,
   "metadata": {},
   "outputs": [],
   "source": [
    "from sklearn.cluster import KMeans\n",
    "\n",
    "# Perform K-Means clustering\n",
    "num_clusters = 5  # Adjust as needed\n",
    "kmeans = KMeans(n_clusters=num_clusters, random_state=0)\n",
    "clusters = kmeans.fit_predict(embeddings)"
   ]
  },
  {
   "cell_type": "code",
   "execution_count": 30,
   "metadata": {},
   "outputs": [],
   "source": [
    "# Update the Supabase table with cluster assignments\n",
    "for i, cluster in enumerate(clusters):\n",
    "    essay_id = ids[i]  # Corresponding ID for each essay\n",
    "    # Convert the cluster to a regular Python int to avoid JSON serialization issues\n",
    "    supabase.table('Essays').update({'cluster': int(cluster)}).eq('id', essay_id).execute()"
   ]
  }
 ],
 "metadata": {
  "kernelspec": {
   "display_name": "Python 3",
   "language": "python",
   "name": "python3"
  },
  "language_info": {
   "codemirror_mode": {
    "name": "ipython",
    "version": 3
   },
   "file_extension": ".py",
   "mimetype": "text/x-python",
   "name": "python",
   "nbconvert_exporter": "python",
   "pygments_lexer": "ipython3",
   "version": "3.11.9"
  }
 },
 "nbformat": 4,
 "nbformat_minor": 2
}
