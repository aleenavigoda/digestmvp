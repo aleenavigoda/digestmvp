{
 "cells": [
  {
   "cell_type": "code",
   "execution_count": 8,
   "metadata": {},
   "outputs": [
    {
     "name": "stdout",
     "output_type": "stream",
     "text": [
      "     id                                          essay_url  \\\n",
      "0  2315  https://feralroo.medium.com/a-rewilding-journe...   \n",
      "1  2316      https://www.henrikkarlsson.xyz/p/search-query   \n",
      "2  2317  http://bit-player.org/2023/ai-and-the-end-of-p...   \n",
      "3  2318                   https://openai.com/index/debate/   \n",
      "4  2319  https://mattsclancy.substack.com/p/adjacent-kn...   \n",
      "\n",
      "                                             content  \\\n",
      "0  document.domain = document.domain;Open in appS...   \n",
      "1                                                NaN   \n",
      "2  bit-player \\t\\t\\t\\t\\t \\t\\t\\t\\t   \\t\\t\\t\\t     ...   \n",
      "3  Skip to main contentResearchProductsSafetyComp...   \n",
      "4                                                NaN   \n",
      "\n",
      "                                           embedding  \n",
      "0  [0.011106399,0.030610874,0.009341449,0.0142999...  \n",
      "1                                                NaN  \n",
      "2  [0.00075472594,0.02052043,0.019100005,-0.00841...  \n",
      "3  [-0.016499722,0.016486635,-0.008103819,-0.0008...  \n",
      "4                                                NaN  \n"
     ]
    }
   ],
   "source": [
    "import pandas as pd\n",
    "\n",
    "# Path to your CSV file\n",
    "csv_path = '/Users/spleena/Downloads/process_essays_rows.csv'\n",
    "\n",
    "# Load the CSV into a DataFrame\n",
    "df = pd.read_csv(csv_path)\n",
    "\n",
    "# Display the first few rows to verify\n",
    "print(df.head())"
   ]
  },
  {
   "cell_type": "code",
   "execution_count": 2,
   "metadata": {},
   "outputs": [
    {
     "name": "stdout",
     "output_type": "stream",
     "text": [
      "Collecting pandas\n",
      "  Using cached pandas-2.2.2-cp311-cp311-macosx_10_9_x86_64.whl.metadata (19 kB)\n",
      "Requirement already satisfied: numpy>=1.23.2 in ./.conda/lib/python3.11/site-packages (from pandas) (2.1.0)\n",
      "Requirement already satisfied: python-dateutil>=2.8.2 in ./.conda/lib/python3.11/site-packages (from pandas) (2.9.0)\n",
      "Collecting pytz>=2020.1 (from pandas)\n",
      "  Using cached pytz-2024.1-py2.py3-none-any.whl.metadata (22 kB)\n",
      "Collecting tzdata>=2022.7 (from pandas)\n",
      "  Using cached tzdata-2024.1-py2.py3-none-any.whl.metadata (1.4 kB)\n",
      "Requirement already satisfied: six>=1.5 in ./.conda/lib/python3.11/site-packages (from python-dateutil>=2.8.2->pandas) (1.16.0)\n",
      "Using cached pandas-2.2.2-cp311-cp311-macosx_10_9_x86_64.whl (12.6 MB)\n",
      "Using cached pytz-2024.1-py2.py3-none-any.whl (505 kB)\n",
      "Using cached tzdata-2024.1-py2.py3-none-any.whl (345 kB)\n",
      "Installing collected packages: pytz, tzdata, pandas\n",
      "Successfully installed pandas-2.2.2 pytz-2024.1 tzdata-2024.1\n",
      "Note: you may need to restart the kernel to use updated packages.\n"
     ]
    }
   ],
   "source": [
    "pip install pandas"
   ]
  }
 ],
 "metadata": {
  "kernelspec": {
   "display_name": "Python 3",
   "language": "python",
   "name": "python3"
  },
  "language_info": {
   "codemirror_mode": {
    "name": "ipython",
    "version": 3
   },
   "file_extension": ".py",
   "mimetype": "text/x-python",
   "name": "python",
   "nbconvert_exporter": "python",
   "pygments_lexer": "ipython3",
   "version": "3.11.9"
  }
 },
 "nbformat": 4,
 "nbformat_minor": 2
}
